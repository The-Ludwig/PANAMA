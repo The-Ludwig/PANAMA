{
 "cells": [
  {
   "cell_type": "markdown",
   "id": "5b3a36db-128b-4e0b-8935-6e3b8dc1ecf2",
   "metadata": {},
   "source": [
    "# Full Tutorial\n",
    "\n",
    "This notebook aims to show all the features of `panama`, and especially how they interplay."
   ]
  },
  {
   "cell_type": "markdown",
   "id": "816507ed-8796-494d-a184-4b6fae0382fa",
   "metadata": {},
   "source": [
    "## Installation\n",
    "Installing `panama` is easy, just run \n",
    "```bash\n",
    "pip install corsika-panama\n",
    "```\n",
    "Or install it by cloning, so you also have access to the install script for CORSIKA7.\n",
    "```bash\n",
    "git clone git@github.com:The-Ludwig/PANAMA.git\n",
    "cd PANAMA\n",
    "pip install -e .\n",
    "```\n",
    "\n",
    "### CORSIKA7\n",
    "For this notebook to make sense, you need a CORSIKA7 installation (preferably with the `EHIST` option). \n",
    "If you cloned the `panama` repository in the last step, you can easily download and install a pre-configured version (EHIST, SIBYLL2.3d, CURVED, URQDM) of CORSIKA7. You need to have a FORTRAN compiler installed:\n",
    "```\n",
    "CORSIKA_VERSION=77500 CORSIKA_PW= admin/download_corsika.sh\n",
    "```\n",
    "This will install CORSIKA7 in the folder `corsika-77500`. You oviously need the CORSIKA_PW, which you will get by mail, after requesting to be on the CORSIKA7 mailing list, [as described on their website here](https://www.iap.kit.edu/corsika/79.php)."
   ]
  },
  {
   "cell_type": "markdown",
   "id": "170a3fa3-a0ca-4bc1-abcb-cf878243937e",
   "metadata": {},
   "source": [
    "## Generating a CORSIKA7 Muon Simulation\n",
    "`panama` provides two ways of executing CORSIKA7 (in parallel). You can either use the Command Line Interface (CLI), available through `panama run` after installation, or you can do it inside python via an `CorsikaRunner` object.\n",
    "The CLI itself is only a small wrapper around `panama.CorsikaRunner`. This tutorial focuses on the use of `CorsikaRunner`, but translating the code to a `panama` command, is straightforeward. For that, have a look at `panama run --help`."
   ]
  },
  {
   "cell_type": "markdown",
   "id": "649f7e83-4abc-4d88-9b49-8cbf2c038bd0",
   "metadata": {},
   "source": [
    "### Explanation of modified CORSIKA cards"
   ]
  },
  {
   "cell_type": "code",
   "execution_count": 1,
   "id": "5688c44b-6352-43d5-a53a-b795c6b71bfe",
   "metadata": {},
   "outputs": [],
   "source": [
    "import panama as pn"
   ]
  },
  {
   "cell_type": "code",
   "execution_count": 2,
   "id": "67bd2f71-270f-428d-a93c-f48e3a2bb25d",
   "metadata": {},
   "outputs": [
    {
     "data": {
      "text/plain": [
       "\u001b[0;31mSignature:\u001b[0m\n",
       "\u001b[0mpn\u001b[0m\u001b[0;34m.\u001b[0m\u001b[0mget_weights\u001b[0m\u001b[0;34m(\u001b[0m\u001b[0;34m\u001b[0m\n",
       "\u001b[0;34m\u001b[0m    \u001b[0mdf_run\u001b[0m\u001b[0;34m:\u001b[0m \u001b[0;34m'pd.DataFrame'\u001b[0m\u001b[0;34m,\u001b[0m\u001b[0;34m\u001b[0m\n",
       "\u001b[0;34m\u001b[0m    \u001b[0mdf_event\u001b[0m\u001b[0;34m:\u001b[0m \u001b[0;34m'pd.DataFrame'\u001b[0m\u001b[0;34m,\u001b[0m\u001b[0;34m\u001b[0m\n",
       "\u001b[0;34m\u001b[0m    \u001b[0mdf\u001b[0m\u001b[0;34m:\u001b[0m \u001b[0;34m'pd.DataFrame'\u001b[0m\u001b[0;34m,\u001b[0m\u001b[0;34m\u001b[0m\n",
       "\u001b[0;34m\u001b[0m    \u001b[0mmodel\u001b[0m\u001b[0;34m:\u001b[0m \u001b[0;34m'CosmicRayFlux'\u001b[0m \u001b[0;34m=\u001b[0m \u001b[0;34m<\u001b[0m\u001b[0mfluxcomp\u001b[0m\u001b[0;34m.\u001b[0m\u001b[0mcosmic_ray_fluxes\u001b[0m\u001b[0;34m.\u001b[0m\u001b[0mH3a\u001b[0m \u001b[0mobject\u001b[0m \u001b[0mat\u001b[0m \u001b[0;36m0x7f8a7eb94910\u001b[0m\u001b[0;34m>\u001b[0m\u001b[0;34m,\u001b[0m\u001b[0;34m\u001b[0m\n",
       "\u001b[0;34m\u001b[0m    \u001b[0mproton_only\u001b[0m\u001b[0;34m:\u001b[0m \u001b[0;34m'bool'\u001b[0m \u001b[0;34m=\u001b[0m \u001b[0;32mFalse\u001b[0m\u001b[0;34m,\u001b[0m\u001b[0;34m\u001b[0m\n",
       "\u001b[0;34m\u001b[0m    \u001b[0mgroups\u001b[0m\u001b[0;34m:\u001b[0m \u001b[0;34m'dict[PDGID, tuple[int, int]] | None'\u001b[0m \u001b[0;34m=\u001b[0m \u001b[0;32mNone\u001b[0m\u001b[0;34m,\u001b[0m\u001b[0;34m\u001b[0m\n",
       "\u001b[0;34m\u001b[0m\u001b[0;34m)\u001b[0m \u001b[0;34m->\u001b[0m \u001b[0;34m'pd.DataFrame'\u001b[0m\u001b[0;34m\u001b[0m\u001b[0;34m\u001b[0m\u001b[0m\n",
       "\u001b[0;31mDocstring:\u001b[0m\n",
       "Adds the column \"weight\" too df_particle to reweight for given primary flux.\n",
       "\n",
       "Parameters\n",
       "----------\n",
       "df_run: The run dataframe (as returned by `read_corsika_particle_files_to_dataframe`)\n",
       "df_event: The event dataframe (as returned by `read_corsika_particle_files_to_dataframe`)\n",
       "df: The particle dataframe (as returned by `read_corsika_particle_files_to_dataframe`)\n",
       "model: The Cosmic Ray primary flux model (instance of CRFlux)\n",
       "proton_only: If set to true (default), only proton pdgid weights are non-zero and refer to\n",
       "    all-nucleon flux.\n",
       "groups: The elements in the model (values: Tuple[Zmin, Zmax]) associated with the MC-primary\n",
       "\n",
       "Returns\n",
       "-------\n",
       "weights: A dataframe with the weights labeled by the run and event index.\n",
       "Can be used like this: `df['weights'] = panama.get_weights(df_run, df_event, df)`\n",
       "\u001b[0;31mFile:\u001b[0m      ~/.local/micromamba/lib/python3.11/site-packages/panama/weights.py\n",
       "\u001b[0;31mType:\u001b[0m      function"
      ]
     },
     "metadata": {},
     "output_type": "display_data"
    }
   ],
   "source": [
    "?pn.get_weights"
   ]
  },
  {
   "cell_type": "code",
   "execution_count": null,
   "id": "dc73a33d-7b35-4ada-9c51-ed344e73148e",
   "metadata": {},
   "outputs": [],
   "source": []
  }
 ],
 "metadata": {
  "kernelspec": {
   "display_name": "Python 3 (ipykernel)",
   "language": "python",
   "name": "python3"
  },
  "language_info": {
   "codemirror_mode": {
    "name": "ipython",
    "version": 3
   },
   "file_extension": ".py",
   "mimetype": "text/x-python",
   "name": "python",
   "nbconvert_exporter": "python",
   "pygments_lexer": "ipython3",
   "version": "3.11.6"
  }
 },
 "nbformat": 4,
 "nbformat_minor": 5
}
